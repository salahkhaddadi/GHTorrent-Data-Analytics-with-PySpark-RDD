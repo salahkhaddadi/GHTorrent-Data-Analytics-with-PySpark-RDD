{
  "cells": [
    {
      "cell_type": "markdown",
      "metadata": {
        "id": "9nrTNalW81Uo"
      },
      "source": [
        "# **GHTorrent Data Analytics with PySpark RDD: An unstructured case study**\n",
        "\n",
        "\n",
        "\n",
        "##### source 1: https://ghtorrent.org\n",
        "##### source 2: https://ghtorrent.org/downloads.html\n"
      ]
    },
    {
      "cell_type": "code",
      "execution_count": 3,
      "metadata": {
        "id": "ghTJybh281Ur",
        "colab": {
          "base_uri": "https://localhost:8080/"
        },
        "outputId": "9147e479-2336-4023-ad4e-eed26a552765"
      },
      "outputs": [
        {
          "output_type": "stream",
          "name": "stdout",
          "text": [
            "Collecting pySpark\n",
            "  Downloading pyspark-3.5.1.tar.gz (317.0 MB)\n",
            "\u001b[2K     \u001b[90m━━━━━━━━━━━━━━━━━━━━━━━━━━━━━━━━━━━━━━━━\u001b[0m \u001b[32m317.0/317.0 MB\u001b[0m \u001b[31m4.0 MB/s\u001b[0m eta \u001b[36m0:00:00\u001b[0m\n",
            "\u001b[?25h  Preparing metadata (setup.py) ... \u001b[?25l\u001b[?25hdone\n",
            "Requirement already satisfied: py4j==0.10.9.7 in /usr/local/lib/python3.10/dist-packages (from pySpark) (0.10.9.7)\n",
            "Building wheels for collected packages: pySpark\n",
            "  Building wheel for pySpark (setup.py) ... \u001b[?25l\u001b[?25hdone\n",
            "  Created wheel for pySpark: filename=pyspark-3.5.1-py2.py3-none-any.whl size=317488493 sha256=c11c6c3393322a7c6b685b75ad333fadb840c16dcce892c55be6a71cb3e5e682\n",
            "  Stored in directory: /root/.cache/pip/wheels/80/1d/60/2c256ed38dddce2fdd93be545214a63e02fbd8d74fb0b7f3a6\n",
            "Successfully built pySpark\n",
            "Installing collected packages: pySpark\n",
            "Successfully installed pySpark-3.5.1\n"
          ]
        }
      ],
      "source": [
        "########## ONLY in Colab ##########\n",
        "!pip3 install pySpark\n",
        "\n",
        "\n",
        "########## ONLY in Colab ##########"
      ]
    },
    {
      "cell_type": "code",
      "execution_count": null,
      "metadata": {
        "id": "Lv29DcwT81Ut"
      },
      "outputs": [],
      "source": [
        "########## ONLY in Ubuntu Machine ##########\n",
        "# Load Spark engine\n",
        "!pip3 install -q findspark\n",
        "import findspark\n",
        "findspark.init()\n",
        "########## ONLY in Ubuntu Machine ##########"
      ]
    },
    {
      "cell_type": "code",
      "execution_count": 15,
      "metadata": {
        "id": "06d5GLeN81Ut"
      },
      "outputs": [],
      "source": [
        "from pyspark import SparkContext, SparkConf\n",
        "\n",
        "# Initializing Spark\n",
        "conf = SparkConf().setAppName(\"GHTorrent_Pyspark\").setMaster('local[*]') #num of cores *\n",
        "sc = SparkContext(conf=conf)\n"
      ]
    },
    {
      "cell_type": "code",
      "source": [
        "print(sc)"
      ],
      "metadata": {
        "colab": {
          "base_uri": "https://localhost:8080/"
        },
        "id": "LalUNJwiunXp",
        "outputId": "5cc13c93-a3a7-41f4-b78f-c193eca463f2"
      },
      "execution_count": 17,
      "outputs": [
        {
          "output_type": "stream",
          "name": "stdout",
          "text": [
            "<SparkContext master=local[*] appName=GHTorrent>\n"
          ]
        }
      ]
    },
    {
      "cell_type": "code",
      "source": [
        "########## ONLY in Colab ##########\n",
        "from google.colab import drive\n",
        "drive.mount('/content/drive')\n",
        "########## ONLY in Colab ##########"
      ],
      "metadata": {
        "id": "M3XviRdcVnwx",
        "colab": {
          "base_uri": "https://localhost:8080/"
        },
        "outputId": "658c160b-79d7-4450-f216-526c87c51c3a"
      },
      "execution_count": 18,
      "outputs": [
        {
          "output_type": "stream",
          "name": "stdout",
          "text": [
            "Mounted at /content/drive\n"
          ]
        }
      ]
    },
    {
      "cell_type": "code",
      "execution_count": 19,
      "metadata": {
        "id": "UGorHKN581Uu"
      },
      "outputs": [],
      "source": [
        "# Read and Load Data to Spark\n",
        "\n",
        "rdd = sc.textFile(\"/content/drive/MyDrive/Colab Notebooks/ghtorrent-logs.txt.gz\")"
      ]
    },
    {
      "cell_type": "code",
      "execution_count": 27,
      "metadata": {
        "id": "6O_dV30S81Uu",
        "colab": {
          "base_uri": "https://localhost:8080/"
        },
        "outputId": "eaa35121-ac7e-4998-a7c1-2c28fdf8427e"
      },
      "outputs": [
        {
          "output_type": "stream",
          "name": "stdout",
          "text": [
            "2\n",
            "10\n"
          ]
        },
        {
          "output_type": "execute_result",
          "data": {
            "text/plain": [
              "MapPartitionsRDD[31] at coalesce at NativeMethodAccessorImpl.java:0"
            ]
          },
          "metadata": {},
          "execution_count": 27
        }
      ],
      "source": [
        "# Repartition and Cache Data:\n",
        "rdd = rdd.repartition(10)\n",
        "\n",
        "\n",
        "print(sc.defaultParallelism)\n",
        "print(rdd.getNumPartitions())\n",
        "\n",
        "\n",
        "rdd.persist(StorageLevel.MEMORY_AND_DISK)"
      ]
    },
    {
      "cell_type": "markdown",
      "metadata": {
        "id": "zl7nmy6S81Uw"
      },
      "source": [
        "## Question 1: Count the number of records and get twenty records randomly.\n"
      ]
    },
    {
      "cell_type": "code",
      "execution_count": 29,
      "metadata": {
        "id": "HG1ypizS81Ux",
        "colab": {
          "base_uri": "https://localhost:8080/"
        },
        "outputId": "9e87b929-f392-4533-8fee-022e96aa58b4"
      },
      "outputs": [
        {
          "output_type": "execute_result",
          "data": {
            "text/plain": [
              "9669788"
            ]
          },
          "metadata": {},
          "execution_count": 29
        }
      ],
      "source": [
        "rdd.count()"
      ]
    },
    {
      "cell_type": "code",
      "source": [
        "#twenty records\n",
        "\n",
        "rdd.takeSample(False, 20)"
      ],
      "metadata": {
        "colab": {
          "base_uri": "https://localhost:8080/"
        },
        "id": "CenPPsSmxJFF",
        "outputId": "20f9552b-3ef3-4f91-cf40-638786242627"
      },
      "execution_count": 69,
      "outputs": [
        {
          "output_type": "execute_result",
          "data": {
            "text/plain": [
              "['DEBUG, 2017-03-23T09:49:36+00:00, ghtorrent-20 -- api_client.rb: Sleeping for 639 seconds',\n",
              " 'INFO, 2017-03-23T12:48:49+00:00, ghtorrent-38 -- retriever.rb: Added issue_event SemsProject/MOST 4->1008591938',\n",
              " 'DEBUG, 2017-03-23T10:10:22+00:00, ghtorrent-41 -- ghtorrent.rb: Repo androidfanatic/docker-asterisk exists',\n",
              " 'DEBUG, 2017-03-23T12:04:38+00:00, ghtorrent-37 -- ght_data_retrieval.rb: Processing event: PushEvent-5531005223',\n",
              " 'INFO, 2017-03-23T10:00:26+00:00, ghtorrent-35 -- api_client.rb: Successful request. URL: https://api.github.com/repos/Raphael-Herdlicka/PhysicsSandbox/issues/3/labels?per_page=100, Remaining: 4957, Total: 77 ms',\n",
              " 'DEBUG, 2017-03-23T11:02:59+00:00, ghtorrent-8 -- retriever.rb: issues cbeust/testng-eclipse -> 26 exists',\n",
              " 'DEBUG, 2017-03-24T12:52:16+00:00, ghtorrent-49 -- ghtorrent.rb: Transaction committed (62 ms)',\n",
              " 'DEBUG, 2017-03-23T11:15:22+00:00, ghtorrent-33 -- ghtorrent.rb: User heyilin416 exists',\n",
              " 'DEBUG, 2017-03-23T10:07:40+00:00, ghtorrent-32 -- ghtorrent.rb: User cqbjk exists',\n",
              " 'DEBUG, 2017-03-23T11:18:33+00:00, ghtorrent-10 -- ghtorrent.rb: Accompanying issue for pull_req 498 jonathan-caryl/SlidingMenu -> jfeinstein10/SlidingMenu exists',\n",
              " 'DEBUG, 2017-03-23T09:03:37+00:00, ghtorrent-28 -- retriever.rb: issues nodejs/node -> 1716 exists',\n",
              " 'DEBUG, 2017-03-23T12:04:20+00:00, ghtorrent-42 -- ghtorrent.rb: Repo etan456/tinyTurtleUnit10Starter exists',\n",
              " 'DEBUG, 2017-03-23T10:11:12+00:00, ghtorrent-5 -- retriever.rb: Commit daiyun169/hsweb-framework -> ff60457d52ab93151cbb4d6d672f532be7efdd2b exists',\n",
              " 'INFO, 2017-03-22T20:15:14+00:00, ghtorrent-38 -- ghtorrent.rb: Added fork smbatchou/tensorflow-mnist-tutorial of martin-gorner/tensorflow-mnist-tutorial',\n",
              " 'DEBUG, 2017-03-23T10:11:42+00:00, ghtorrent-3 -- ghtorrent.rb: Repo electron-userland/electron-builder exists',\n",
              " 'DEBUG, 2017-03-24T12:57:06+00:00, ghtorrent-47 -- retriever.rb: Commit wmjdmin/awesome-java-cn -> 3ab4619a115ee58e703ffa22bd5645af443c0be0 exists',\n",
              " 'INFO, 2017-03-23T10:54:37+00:00, ghtorrent-11 -- api_client.rb: Successful request. URL: https://api.github.com/repos/Turgenoid/hamburgers/labels/enhancement, Remaining: 372, Total: 50 ms',\n",
              " 'DEBUG, 2017-03-23T09:18:59+00:00, ghtorrent-22 -- ghtorrent.rb: Repo baishancloud/pykit exists',\n",
              " 'INFO, 2017-03-23T11:03:00+00:00, ghtorrent-28 -- api_client.rb: Successful request. URL: https://api.github.com/repos/jpalala/lamernews/issues?per_page=100, Remaining: 4559, Total: 63 ms',\n",
              " 'DEBUG, 2017-03-23T10:00:34+00:00, ghtorrent-12 -- ghtorrent.rb: Commit Nitrogen-CAF/android_system_core -> ca7fdffa38cd7c6114e3d82c7f9e1b02433e91e4 exists']"
            ]
          },
          "metadata": {},
          "execution_count": 69
        }
      ]
    },
    {
      "cell_type": "markdown",
      "source": [
        "# **GHTorrent data format**\n",
        "Every line of this log file includes:\n",
        "1.   Logging level, one of `DEBUG`, `INFO`, `WARN`, `ERROR`\n",
        "2.   A timestamp\n",
        "3.   The downloader id\n",
        "4.   The logging stage including at least one of the following names:\n",
        "    *   `event_processing`\n",
        "    *   `ght_data_retrieval`\n",
        "    *   `api_client`\n",
        "    *   `retriever`\n",
        "    *   `ghtorrent`"
      ],
      "metadata": {
        "id": "ogaXjJV8tFYE"
      }
    },
    {
      "cell_type": "markdown",
      "source": [
        "## Question 2: Get the number of lines with both `Transaction` or `Repo` information."
      ],
      "metadata": {
        "id": "jqfD3Thrwsfx"
      }
    },
    {
      "cell_type": "code",
      "source": [
        "#\n",
        "import re\n",
        "def filtered_rdd(line):\n",
        "  return re.compile('\\w+').findall(line.lower())\n",
        "\n",
        "filtered_rdd('Salah ?Eddine!, is CurrEntly learning! BIG dAtA;, Analysis%')\n"
      ],
      "metadata": {
        "colab": {
          "base_uri": "https://localhost:8080/"
        },
        "id": "_nEdFl0K07qr",
        "outputId": "712fcde5-6163-4b78-ce1f-c046c514241f"
      },
      "execution_count": 65,
      "outputs": [
        {
          "output_type": "execute_result",
          "data": {
            "text/plain": [
              "['salah', 'eddine', 'is', 'currently', 'learning', 'big', 'data', 'analysis']"
            ]
          },
          "metadata": {},
          "execution_count": 65
        }
      ]
    },
    {
      "cell_type": "code",
      "source": [
        "rdd_transaction = rdd.filter(lambda line: \"transaction\" in filtered_rdd(line))\n",
        "rdd_repo = rdd.filter(lambda line: \"repo\" in filtered_rdd(line))\n",
        "\n",
        "new_rdd = rdd_transaction.intersection(rdd_repo)\n",
        "\n",
        "new_rdd.count()"
      ],
      "metadata": {
        "id": "BdoEimMywty5",
        "colab": {
          "base_uri": "https://localhost:8080/"
        },
        "outputId": "e3783cba-2584-4d53-b656-ce336c49aebe"
      },
      "execution_count": 64,
      "outputs": [
        {
          "output_type": "execute_result",
          "data": {
            "text/plain": [
              "19"
            ]
          },
          "metadata": {},
          "execution_count": 64
        }
      ]
    },
    {
      "cell_type": "code",
      "source": [
        "new_rdd.collect()"
      ],
      "metadata": {
        "colab": {
          "base_uri": "https://localhost:8080/"
        },
        "id": "T9uDA_1W4K6Z",
        "outputId": "966f24ff-0bfd-469e-d2c0-992f4bf32804"
      },
      "execution_count": 67,
      "outputs": [
        {
          "output_type": "execute_result",
          "data": {
            "text/plain": [
              "['DEBUG, 2017-03-23T13:03:33+00:00, ghtorrent-42 -- ghtorrent.rb: Repo jwpttcg66/redis-game-transaction exists',\n",
              " 'DEBUG, 2017-03-23T09:13:26+00:00, ghtorrent-9 -- ghtorrent.rb: Association of commit 5793a7df39a26b46082cafb59f287e2dc2cf9796 with repo xuminwlt/tcc-transaction exists',\n",
              " 'DEBUG, 2017-03-23T09:13:17+00:00, ghtorrent-9 -- retriever.rb: Repo xuminwlt -> tcc-transaction exists',\n",
              " 'DEBUG, 2017-03-23T09:13:16+00:00, ghtorrent-9 -- ghtorrent.rb: Repo changmingxie/tcc-transaction exists',\n",
              " 'INFO, 2017-03-23T09:13:17+00:00, ghtorrent-9 -- ghtorrent.rb: Added repo xuminwlt/tcc-transaction',\n",
              " 'DEBUG, 2017-03-23T09:13:17+00:00, ghtorrent-9 -- retriever.rb: Repo changmingxie -> tcc-transaction exists',\n",
              " 'DEBUG, 2017-03-23T09:13:17+00:00, ghtorrent-9 -- ghtorrent.rb: Repo changmingxie/tcc-transaction exists',\n",
              " 'DEBUG, 2017-03-23T09:13:27+00:00, ghtorrent-9 -- ghtorrent.rb: Repo xuminwlt/tcc-transaction exists',\n",
              " 'DEBUG, 2017-03-23T11:09:37+00:00, ghtorrent-1 -- ghtorrent.rb: Repo pilkyoon/spring-transaction exists',\n",
              " 'DEBUG, 2017-03-23T09:13:26+00:00, ghtorrent-9 -- ghtorrent.rb: Repo xuminwlt/tcc-transaction exists',\n",
              " 'DEBUG, 2017-03-23T09:13:17+00:00, ghtorrent-9 -- ghtorrent.rb: Repo xuminwlt/tcc-transaction exists',\n",
              " 'DEBUG, 2017-03-23T09:27:31+00:00, ghtorrent-24 -- ghtorrent.rb: Repo changmingxie/tcc-transaction exists',\n",
              " 'DEBUG, 2017-03-23T09:13:16+00:00, ghtorrent-9 -- ghtorrent.rb: Repo xuminwlt/tcc-transaction exists',\n",
              " 'DEBUG, 2017-03-23T09:13:28+00:00, ghtorrent-9 -- ghtorrent.rb: Repo xuminwlt/tcc-transaction exists',\n",
              " 'DEBUG, 2017-03-23T09:26:01+00:00, ghtorrent-11 -- ghtorrent.rb: Repo jwpttcg66/redis-game-transaction exists',\n",
              " 'INFO, 2017-03-23T09:13:16+00:00, ghtorrent-9 -- retriever.rb: Added repo xuminwlt -> tcc-transaction',\n",
              " 'DEBUG, 2017-03-23T10:28:03+00:00, ghtorrent-33 -- ghtorrent.rb: Repo jwpttcg66/redis-game-transaction exists',\n",
              " 'INFO, 2017-03-23T09:13:17+00:00, ghtorrent-9 -- ghtorrent.rb: Repo xuminwlt/tcc-transaction was forked at changmingxie/tcc-transaction:5793a7df39a26b46082cafb59f287e2dc2cf9796',\n",
              " 'INFO, 2017-03-23T09:13:16+00:00, ghtorrent-9 -- ghtorrent.rb: Repo xuminwlt/tcc-transaction is a fork of changmingxie/tcc-transaction']"
            ]
          },
          "metadata": {},
          "execution_count": 67
        }
      ]
    },
    {
      "cell_type": "markdown",
      "source": [
        "## Question 3: Get the number of lines including `web link` for `WARN` logging levels."
      ],
      "metadata": {
        "id": "PuYhTunZ5Mlj"
      }
    },
    {
      "cell_type": "code",
      "source": [
        "def find_links(line):\n",
        "  return re.findall(r'http[s]?://', line)\n",
        "\n",
        "find_links(\"https://\")"
      ],
      "metadata": {
        "colab": {
          "base_uri": "https://localhost:8080/"
        },
        "id": "YjHbuNZ07m7i",
        "outputId": "c331f51b-e6ab-4fa2-eed8-8be4da2dfe4e"
      },
      "execution_count": 92,
      "outputs": [
        {
          "output_type": "execute_result",
          "data": {
            "text/plain": [
              "['https://']"
            ]
          },
          "metadata": {},
          "execution_count": 92
        }
      ]
    },
    {
      "cell_type": "code",
      "source": [
        "rdd.filter(lambda line: line.split(',')[0] == 'WARN') \\\n",
        "              .filter(lambda line: len(find_links(line)) > 1 ) \\\n",
        "              .collect()\n"
      ],
      "metadata": {
        "id": "isKnxJ-cXTAo"
      },
      "execution_count": null,
      "outputs": []
    },
    {
      "cell_type": "markdown",
      "source": [
        "## Question 4: What is the most active `downloader id` for `Failed` connections?"
      ],
      "metadata": {
        "id": "lhT_ZLTfw2eb"
      }
    },
    {
      "cell_type": "code",
      "source": [
        "rdd_Failed = rdd.filter(lambda line: 'failed' in filtered_rdd(line))\n",
        "\n",
        "rdd_active_ids = rdd_Failed.map(lambda line: (line.replace(': ', ',').split(',')[2].split('-')[1],1))\n",
        "\n",
        "rdd_active_ids.reduceByKey(lambda a,b: a+b).sortBy(lambda x: x[1], ascending=False).first()\n",
        "\n"
      ],
      "metadata": {
        "id": "zTBWuWusnJ1t",
        "colab": {
          "base_uri": "https://localhost:8080/"
        },
        "outputId": "4c88a6bb-2da9-4320-beb4-e9dc2cfd7e61"
      },
      "execution_count": 115,
      "outputs": [
        {
          "output_type": "execute_result",
          "data": {
            "text/plain": [
              "('13 ', 79654)"
            ]
          },
          "metadata": {},
          "execution_count": 115
        }
      ]
    },
    {
      "cell_type": "markdown",
      "source": [
        "## Question 5: What is the most active `repository`?"
      ],
      "metadata": {
        "id": "1x_oXyUrQ_tp"
      }
    },
    {
      "cell_type": "code",
      "source": [
        "def get_repo(line):\n",
        "    return re.compile(' \\w+ ').findall(line.lower())\n",
        "\n",
        "\n",
        "rdd.filter(lambda line: \" repo \" in get_repo(line)) \\\n",
        "   .map(lambda line: line.lower().split('repo')[1].split(' ')[1]) \\\n",
        "   .map(lambda repo: (repo, 1)) \\\n",
        "   .reduceByKey(lambda a,b: a+b) \\\n",
        "   .sortBy(lambda x: x[1], ascending=False) \\\n",
        "   .first()\n"
      ],
      "metadata": {
        "id": "pgn6mzyJRADq",
        "colab": {
          "base_uri": "https://localhost:8080/"
        },
        "outputId": "f8ab34b5-800a-4c5d-dff6-8107c2ac20ba"
      },
      "execution_count": 122,
      "outputs": [
        {
          "output_type": "execute_result",
          "data": {
            "text/plain": [
              "('ovyx/hammerheadn', 22447)"
            ]
          },
          "metadata": {},
          "execution_count": 122
        }
      ]
    }
  ],
  "metadata": {
    "kernelspec": {
      "display_name": "Python 3",
      "language": "python",
      "name": "python3"
    },
    "language_info": {
      "codemirror_mode": {
        "name": "ipython",
        "version": 3
      },
      "file_extension": ".py",
      "mimetype": "text/x-python",
      "name": "python",
      "nbconvert_exporter": "python",
      "pygments_lexer": "ipython3",
      "version": "3.8.3"
    },
    "colab": {
      "provenance": []
    }
  },
  "nbformat": 4,
  "nbformat_minor": 0
}